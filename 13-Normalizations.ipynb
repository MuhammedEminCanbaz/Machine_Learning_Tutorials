{
 "cells": [
  {
   "cell_type": "code",
   "execution_count": 1,
   "id": "a7b2998e-6304-4fa8-852e-d74a5dfb010b",
   "metadata": {},
   "outputs": [],
   "source": [
    "import pandas as pd\n",
    "import numpy as np\n",
    "from sklearn.preprocessing import StandardScaler,MinMaxScaler\n",
    "\n",
    "# gerekli kütüphaneler import edildi."
   ]
  },
  {
   "cell_type": "code",
   "execution_count": 2,
   "id": "c30bfe0c-fe81-42b7-b309-08a50844cc66",
   "metadata": {},
   "outputs": [],
   "source": [
    "df = pd.read_csv(\"datasets/Plane Price.csv\")"
   ]
  },
  {
   "cell_type": "code",
   "execution_count": 3,
   "id": "8ebfef75-d4ac-4705-bd42-3bb9b8152e08",
   "metadata": {},
   "outputs": [
    {
     "data": {
      "text/html": [
       "<div>\n",
       "<style scoped>\n",
       "    .dataframe tbody tr th:only-of-type {\n",
       "        vertical-align: middle;\n",
       "    }\n",
       "\n",
       "    .dataframe tbody tr th {\n",
       "        vertical-align: top;\n",
       "    }\n",
       "\n",
       "    .dataframe thead th {\n",
       "        text-align: right;\n",
       "    }\n",
       "</style>\n",
       "<table border=\"1\" class=\"dataframe\">\n",
       "  <thead>\n",
       "    <tr style=\"text-align: right;\">\n",
       "      <th></th>\n",
       "      <th>Model Name</th>\n",
       "      <th>Engine Type</th>\n",
       "      <th>HP or lbs thr ea engine</th>\n",
       "      <th>Max speed Knots</th>\n",
       "      <th>Rcmnd cruise Knots</th>\n",
       "      <th>Stall Knots dirty</th>\n",
       "      <th>Fuel gal/lbs</th>\n",
       "      <th>All eng rate of climb</th>\n",
       "      <th>Eng out rate of climb</th>\n",
       "      <th>Takeoff over 50ft</th>\n",
       "      <th>Landing over 50ft</th>\n",
       "      <th>Empty weight lbs</th>\n",
       "      <th>Length ft/in</th>\n",
       "      <th>Wing span ft/in</th>\n",
       "      <th>Range N.M.</th>\n",
       "      <th>Price</th>\n",
       "    </tr>\n",
       "  </thead>\n",
       "  <tbody>\n",
       "    <tr>\n",
       "      <th>0</th>\n",
       "      <td>100 Darter (S.L. Industries)</td>\n",
       "      <td>Piston</td>\n",
       "      <td>145</td>\n",
       "      <td>104</td>\n",
       "      <td>91.0</td>\n",
       "      <td>46.0</td>\n",
       "      <td>36</td>\n",
       "      <td>450</td>\n",
       "      <td>900.0</td>\n",
       "      <td>1300.0</td>\n",
       "      <td>2,050</td>\n",
       "      <td>1,180</td>\n",
       "      <td>25/3</td>\n",
       "      <td>37/5</td>\n",
       "      <td>370</td>\n",
       "      <td>1300000.0</td>\n",
       "    </tr>\n",
       "    <tr>\n",
       "      <th>1</th>\n",
       "      <td>7 CCM Champ</td>\n",
       "      <td>Piston</td>\n",
       "      <td>85</td>\n",
       "      <td>89</td>\n",
       "      <td>83.0</td>\n",
       "      <td>44.0</td>\n",
       "      <td>15</td>\n",
       "      <td>600</td>\n",
       "      <td>720.0</td>\n",
       "      <td>800.0</td>\n",
       "      <td>1,350</td>\n",
       "      <td>820</td>\n",
       "      <td>20/7</td>\n",
       "      <td>36/1</td>\n",
       "      <td>190</td>\n",
       "      <td>1230000.0</td>\n",
       "    </tr>\n",
       "    <tr>\n",
       "      <th>2</th>\n",
       "      <td>100 Darter (S.L. Industries)</td>\n",
       "      <td>Piston</td>\n",
       "      <td>90</td>\n",
       "      <td>90</td>\n",
       "      <td>78.0</td>\n",
       "      <td>37.0</td>\n",
       "      <td>19</td>\n",
       "      <td>650</td>\n",
       "      <td>475.0</td>\n",
       "      <td>850.0</td>\n",
       "      <td>1,300</td>\n",
       "      <td>810</td>\n",
       "      <td>21/5</td>\n",
       "      <td>35/0</td>\n",
       "      <td>210</td>\n",
       "      <td>1600000.0</td>\n",
       "    </tr>\n",
       "  </tbody>\n",
       "</table>\n",
       "</div>"
      ],
      "text/plain": [
       "                     Model Name Engine Type HP or lbs thr ea engine  \\\n",
       "0  100 Darter (S.L. Industries)      Piston                     145   \n",
       "1                   7 CCM Champ      Piston                      85   \n",
       "2  100 Darter (S.L. Industries)      Piston                      90   \n",
       "\n",
       "  Max speed Knots  Rcmnd cruise Knots  Stall Knots dirty  Fuel gal/lbs  \\\n",
       "0             104                91.0               46.0            36   \n",
       "1              89                83.0               44.0            15   \n",
       "2              90                78.0               37.0            19   \n",
       "\n",
       "  All eng rate of climb  Eng out rate of climb  Takeoff over 50ft  \\\n",
       "0                   450                  900.0             1300.0   \n",
       "1                   600                  720.0              800.0   \n",
       "2                   650                  475.0              850.0   \n",
       "\n",
       "  Landing over 50ft Empty weight lbs Length ft/in Wing span ft/in Range N.M.  \\\n",
       "0             2,050            1,180         25/3            37/5        370   \n",
       "1             1,350              820         20/7            36/1        190   \n",
       "2             1,300              810         21/5            35/0        210   \n",
       "\n",
       "       Price  \n",
       "0  1300000.0  \n",
       "1  1230000.0  \n",
       "2  1600000.0  "
      ]
     },
     "execution_count": 3,
     "metadata": {},
     "output_type": "execute_result"
    }
   ],
   "source": [
    "df.head(3)"
   ]
  },
  {
   "cell_type": "code",
   "execution_count": 4,
   "id": "d29e74a2-8e4d-4eec-9167-1824b5f0ec35",
   "metadata": {},
   "outputs": [
    {
     "name": "stdout",
     "output_type": "stream",
     "text": [
      "<class 'pandas.core.frame.DataFrame'>\n",
      "RangeIndex: 517 entries, 0 to 516\n",
      "Data columns (total 16 columns):\n",
      " #   Column                   Non-Null Count  Dtype  \n",
      "---  ------                   --------------  -----  \n",
      " 0   Model Name               517 non-null    object \n",
      " 1   Engine Type              517 non-null    object \n",
      " 2   HP or lbs thr ea engine  517 non-null    object \n",
      " 3   Max speed Knots          497 non-null    object \n",
      " 4   Rcmnd cruise Knots       507 non-null    float64\n",
      " 5   Stall Knots dirty        502 non-null    float64\n",
      " 6   Fuel gal/lbs             517 non-null    int64  \n",
      " 7   All eng rate of climb    513 non-null    object \n",
      " 8   Eng out rate of climb    491 non-null    float64\n",
      " 9   Takeoff over 50ft        492 non-null    float64\n",
      " 10  Landing over 50ft        517 non-null    object \n",
      " 11  Empty weight lbs         516 non-null    object \n",
      " 12  Length ft/in             517 non-null    object \n",
      " 13  Wing span ft/in          517 non-null    object \n",
      " 14  Range N.M.               499 non-null    object \n",
      " 15  Price                    507 non-null    float64\n",
      "dtypes: float64(5), int64(1), object(10)\n",
      "memory usage: 64.8+ KB\n"
     ]
    }
   ],
   "source": [
    "df.info()"
   ]
  },
  {
   "cell_type": "code",
   "execution_count": 5,
   "id": "ef819f79-089e-4326-9bfc-8ac264be23da",
   "metadata": {},
   "outputs": [],
   "source": [
    "# veri setimiz biraz uğraştırıcı bir veri seti, bu yüzden sadece sayısal olan değerleri alsak daha kolay olacak"
   ]
  },
  {
   "cell_type": "code",
   "execution_count": 6,
   "id": "14a2849d-f8af-44b7-89be-441e72ed85b4",
   "metadata": {},
   "outputs": [],
   "source": [
    "df = df [['Rcmnd cruise Knots','Stall Knots dirty','Fuel gal/lbs','Eng out rate of climb','Takeoff over 50ft','Price']]"
   ]
  },
  {
   "cell_type": "code",
   "execution_count": 7,
   "id": "90f6cb6b-656b-4f0a-8ded-8077fa98c3ac",
   "metadata": {},
   "outputs": [
    {
     "data": {
      "text/html": [
       "<div>\n",
       "<style scoped>\n",
       "    .dataframe tbody tr th:only-of-type {\n",
       "        vertical-align: middle;\n",
       "    }\n",
       "\n",
       "    .dataframe tbody tr th {\n",
       "        vertical-align: top;\n",
       "    }\n",
       "\n",
       "    .dataframe thead th {\n",
       "        text-align: right;\n",
       "    }\n",
       "</style>\n",
       "<table border=\"1\" class=\"dataframe\">\n",
       "  <thead>\n",
       "    <tr style=\"text-align: right;\">\n",
       "      <th></th>\n",
       "      <th>Rcmnd cruise Knots</th>\n",
       "      <th>Stall Knots dirty</th>\n",
       "      <th>Fuel gal/lbs</th>\n",
       "      <th>Eng out rate of climb</th>\n",
       "      <th>Takeoff over 50ft</th>\n",
       "      <th>Price</th>\n",
       "    </tr>\n",
       "  </thead>\n",
       "  <tbody>\n",
       "    <tr>\n",
       "      <th>0</th>\n",
       "      <td>91.0</td>\n",
       "      <td>46.0</td>\n",
       "      <td>36</td>\n",
       "      <td>900.0</td>\n",
       "      <td>1300.0</td>\n",
       "      <td>1300000.0</td>\n",
       "    </tr>\n",
       "    <tr>\n",
       "      <th>1</th>\n",
       "      <td>83.0</td>\n",
       "      <td>44.0</td>\n",
       "      <td>15</td>\n",
       "      <td>720.0</td>\n",
       "      <td>800.0</td>\n",
       "      <td>1230000.0</td>\n",
       "    </tr>\n",
       "    <tr>\n",
       "      <th>2</th>\n",
       "      <td>78.0</td>\n",
       "      <td>37.0</td>\n",
       "      <td>19</td>\n",
       "      <td>475.0</td>\n",
       "      <td>850.0</td>\n",
       "      <td>1600000.0</td>\n",
       "    </tr>\n",
       "  </tbody>\n",
       "</table>\n",
       "</div>"
      ],
      "text/plain": [
       "   Rcmnd cruise Knots  Stall Knots dirty  Fuel gal/lbs  Eng out rate of climb  \\\n",
       "0                91.0               46.0            36                  900.0   \n",
       "1                83.0               44.0            15                  720.0   \n",
       "2                78.0               37.0            19                  475.0   \n",
       "\n",
       "   Takeoff over 50ft      Price  \n",
       "0             1300.0  1300000.0  \n",
       "1              800.0  1230000.0  \n",
       "2              850.0  1600000.0  "
      ]
     },
     "execution_count": 7,
     "metadata": {},
     "output_type": "execute_result"
    }
   ],
   "source": [
    "df = df.dropna()\n",
    "df.head(3)"
   ]
  },
  {
   "cell_type": "code",
   "execution_count": 8,
   "id": "a8e82c92-f98e-4750-84d2-85d50172ea5d",
   "metadata": {},
   "outputs": [],
   "source": [
    "x = df.drop('Price',axis = 1)\n",
    "y = df['Price']\n",
    "# fiyat tahmini yapacağımız için Price isimli sütunu y seçtik"
   ]
  },
  {
   "cell_type": "code",
   "execution_count": 9,
   "id": "08297d40-0364-4402-abd0-03973fba6802",
   "metadata": {},
   "outputs": [],
   "source": [
    "# y 'yi asla normalize etmeyeceğiz\n",
    "\n",
    "# normalizasyon outliers(yani aykırı değerler)'i azaltır\n",
    "\n",
    "# model performansını artırır."
   ]
  },
  {
   "cell_type": "code",
   "execution_count": 10,
   "id": "28b8e0d5-a53d-4583-94b6-8117c8b2cb91",
   "metadata": {},
   "outputs": [],
   "source": [
    "ss = StandardScaler()\n",
    "X2 = ss.fit_transform(x)\n",
    "# normalizasyonu x değerlerimize standart sapmalarına göre hesap kitap yapılacak şekilde uyguladık"
   ]
  },
  {
   "cell_type": "code",
   "execution_count": 11,
   "id": "a8e168fb-146e-4dd5-a01c-0a23f7e05462",
   "metadata": {},
   "outputs": [
    {
     "data": {
      "text/html": [
       "<div>\n",
       "<style scoped>\n",
       "    .dataframe tbody tr th:only-of-type {\n",
       "        vertical-align: middle;\n",
       "    }\n",
       "\n",
       "    .dataframe tbody tr th {\n",
       "        vertical-align: top;\n",
       "    }\n",
       "\n",
       "    .dataframe thead th {\n",
       "        text-align: right;\n",
       "    }\n",
       "</style>\n",
       "<table border=\"1\" class=\"dataframe\">\n",
       "  <thead>\n",
       "    <tr style=\"text-align: right;\">\n",
       "      <th></th>\n",
       "      <th>0</th>\n",
       "      <th>1</th>\n",
       "      <th>2</th>\n",
       "      <th>3</th>\n",
       "      <th>4</th>\n",
       "    </tr>\n",
       "  </thead>\n",
       "  <tbody>\n",
       "    <tr>\n",
       "      <th>0</th>\n",
       "      <td>-1.068639</td>\n",
       "      <td>-0.909101</td>\n",
       "      <td>-0.301174</td>\n",
       "      <td>-1.010356</td>\n",
       "      <td>-0.570019</td>\n",
       "    </tr>\n",
       "    <tr>\n",
       "      <th>1</th>\n",
       "      <td>-1.148840</td>\n",
       "      <td>-1.032013</td>\n",
       "      <td>-0.306563</td>\n",
       "      <td>-1.176676</td>\n",
       "      <td>-1.280965</td>\n",
       "    </tr>\n",
       "    <tr>\n",
       "      <th>2</th>\n",
       "      <td>-1.198965</td>\n",
       "      <td>-1.462203</td>\n",
       "      <td>-0.305537</td>\n",
       "      <td>-1.403055</td>\n",
       "      <td>-1.209871</td>\n",
       "    </tr>\n",
       "  </tbody>\n",
       "</table>\n",
       "</div>"
      ],
      "text/plain": [
       "          0         1         2         3         4\n",
       "0 -1.068639 -0.909101 -0.301174 -1.010356 -0.570019\n",
       "1 -1.148840 -1.032013 -0.306563 -1.176676 -1.280965\n",
       "2 -1.198965 -1.462203 -0.305537 -1.403055 -1.209871"
      ]
     },
     "execution_count": 11,
     "metadata": {},
     "output_type": "execute_result"
    }
   ],
   "source": [
    "X2 = pd.DataFrame(X2) #x2'yi bir dataframe'e dönüştürdüm\n",
    "X2.head(3)"
   ]
  },
  {
   "cell_type": "code",
   "execution_count": 15,
   "id": "768a80c3-2c2b-4750-82d1-4f4dd4c0dcc6",
   "metadata": {},
   "outputs": [
    {
     "data": {
      "text/plain": [
       "1.1686558153949016e-16"
      ]
     },
     "execution_count": 15,
     "metadata": {},
     "output_type": "execute_result"
    }
   ],
   "source": [
    "X2[0].mean()"
   ]
  },
  {
   "cell_type": "code",
   "execution_count": 16,
   "id": "a462f60c-edcb-4c3f-ab81-783654ff9495",
   "metadata": {},
   "outputs": [
    {
     "data": {
      "text/plain": [
       "1.0010982979696863"
      ]
     },
     "execution_count": 16,
     "metadata": {},
     "output_type": "execute_result"
    }
   ],
   "source": [
    "X2[0].std()"
   ]
  },
  {
   "cell_type": "code",
   "execution_count": 17,
   "id": "543aac4a-3c51-4135-89c1-4d5bcdfdba9d",
   "metadata": {},
   "outputs": [],
   "source": [
    "#bu yöntemle, sütunlarımızın standart sapmasını 1'e ve ortalamalarını da 0'a yakın bir hale getirdik. Bu şekilde normalizasyon yapıldı"
   ]
  },
  {
   "cell_type": "code",
   "execution_count": 18,
   "id": "0e96dd82-d8a5-4b5f-8030-735826c27adf",
   "metadata": {},
   "outputs": [],
   "source": [
    "mm = MinMaxScaler()"
   ]
  },
  {
   "cell_type": "code",
   "execution_count": 19,
   "id": "940be678-ac9c-4177-bef0-0f0788b9b727",
   "metadata": {},
   "outputs": [],
   "source": [
    "X3 = mm.fit_transform(x)"
   ]
  },
  {
   "cell_type": "code",
   "execution_count": 20,
   "id": "6ec2cc0b-2634-4dcb-94b6-4e8664c4decf",
   "metadata": {},
   "outputs": [],
   "source": [
    "X3 = pd.DataFrame(X3) #min max scaler ile yaptığımız normalizasyonu da aynı şekilde data frame haline getirdik"
   ]
  },
  {
   "cell_type": "code",
   "execution_count": 21,
   "id": "0f1768cb-e7aa-4dd0-8511-c609edbc0b7e",
   "metadata": {},
   "outputs": [
    {
     "data": {
      "text/html": [
       "<div>\n",
       "<style scoped>\n",
       "    .dataframe tbody tr th:only-of-type {\n",
       "        vertical-align: middle;\n",
       "    }\n",
       "\n",
       "    .dataframe tbody tr th {\n",
       "        vertical-align: top;\n",
       "    }\n",
       "\n",
       "    .dataframe thead th {\n",
       "        text-align: right;\n",
       "    }\n",
       "</style>\n",
       "<table border=\"1\" class=\"dataframe\">\n",
       "  <thead>\n",
       "    <tr style=\"text-align: right;\">\n",
       "      <th></th>\n",
       "      <th>0</th>\n",
       "      <th>1</th>\n",
       "      <th>2</th>\n",
       "      <th>3</th>\n",
       "      <th>4</th>\n",
       "    </tr>\n",
       "  </thead>\n",
       "  <tbody>\n",
       "    <tr>\n",
       "      <th>0</th>\n",
       "      <td>0.051724</td>\n",
       "      <td>0.215909</td>\n",
       "      <td>0.000814</td>\n",
       "      <td>0.074541</td>\n",
       "      <td>0.183908</td>\n",
       "    </tr>\n",
       "    <tr>\n",
       "      <th>1</th>\n",
       "      <td>0.032020</td>\n",
       "      <td>0.193182</td>\n",
       "      <td>0.000102</td>\n",
       "      <td>0.044254</td>\n",
       "      <td>0.068966</td>\n",
       "    </tr>\n",
       "    <tr>\n",
       "      <th>2</th>\n",
       "      <td>0.019704</td>\n",
       "      <td>0.113636</td>\n",
       "      <td>0.000237</td>\n",
       "      <td>0.003029</td>\n",
       "      <td>0.080460</td>\n",
       "    </tr>\n",
       "  </tbody>\n",
       "</table>\n",
       "</div>"
      ],
      "text/plain": [
       "          0         1         2         3         4\n",
       "0  0.051724  0.215909  0.000814  0.074541  0.183908\n",
       "1  0.032020  0.193182  0.000102  0.044254  0.068966\n",
       "2  0.019704  0.113636  0.000237  0.003029  0.080460"
      ]
     },
     "execution_count": 21,
     "metadata": {},
     "output_type": "execute_result"
    }
   ],
   "source": [
    "X3.head(3)"
   ]
  },
  {
   "cell_type": "code",
   "execution_count": 22,
   "id": "35922a11-ddd1-4ccf-91a9-a6108310962e",
   "metadata": {},
   "outputs": [
    {
     "data": {
      "text/plain": [
       "1.0"
      ]
     },
     "execution_count": 22,
     "metadata": {},
     "output_type": "execute_result"
    }
   ],
   "source": [
    "X3[1].max()"
   ]
  },
  {
   "cell_type": "code",
   "execution_count": 23,
   "id": "5c36a496-2284-4e3b-bc0f-8ac67182df1f",
   "metadata": {},
   "outputs": [
    {
     "data": {
      "text/plain": [
       "0.0"
      ]
     },
     "execution_count": 23,
     "metadata": {},
     "output_type": "execute_result"
    }
   ],
   "source": [
    "X3[1].min()"
   ]
  },
  {
   "cell_type": "code",
   "execution_count": 24,
   "id": "2ae70bf1-17c5-4090-92e7-830dfc0139c6",
   "metadata": {},
   "outputs": [],
   "source": [
    "# bu normalizasyonda ise her bir feature'u 0 ve 1 arasına hapseder"
   ]
  },
  {
   "cell_type": "code",
   "execution_count": 25,
   "id": "e6558a00-bef9-44bc-9230-8c9eeb22c22a",
   "metadata": {},
   "outputs": [],
   "source": [
    "# bu sayede binlerle ifade edilen feature'lar da 0 ve 1 arasındakiler de ya da ondalık olanlar da birbirine benzer ve hesaplama kolayalaşır"
   ]
  },
  {
   "cell_type": "code",
   "execution_count": 26,
   "id": "7d0c7f2b-c32d-4b9c-8f05-988a6b6618af",
   "metadata": {},
   "outputs": [],
   "source": [
    "mm2 = MinMaxScaler(feature_range = (0,10))# bu kez 0 ve 1 arasına değil, 0 ve 10 arasına sıkıştırmış olduk"
   ]
  },
  {
   "cell_type": "code",
   "execution_count": 27,
   "id": "b0e00cf6-a4d4-422b-a2d3-5b01b0f82b32",
   "metadata": {},
   "outputs": [],
   "source": [
    "X4 = mm2.fit_transform(x)\n",
    "X4 = pd.DataFrame(X4)"
   ]
  },
  {
   "cell_type": "code",
   "execution_count": 28,
   "id": "3a9d1dee-8c79-4e67-8238-deb2e5dced65",
   "metadata": {},
   "outputs": [
    {
     "data": {
      "text/plain": [
       "10.0"
      ]
     },
     "execution_count": 28,
     "metadata": {},
     "output_type": "execute_result"
    }
   ],
   "source": [
    "X4[1].max()"
   ]
  },
  {
   "cell_type": "code",
   "execution_count": 29,
   "id": "edaeb76a-d773-499c-80b1-fb293d22b321",
   "metadata": {},
   "outputs": [
    {
     "data": {
      "text/plain": [
       "0.0"
      ]
     },
     "execution_count": 29,
     "metadata": {},
     "output_type": "execute_result"
    }
   ],
   "source": [
    "X4[1].min()"
   ]
  },
  {
   "cell_type": "code",
   "execution_count": 30,
   "id": "93d9dac4-1caa-4d97-8927-232d8ef5a714",
   "metadata": {},
   "outputs": [],
   "source": [
    "#burada da en büyük değerin 10 en küçük değerin 0 olduğunu görebiliriz."
   ]
  },
  {
   "cell_type": "code",
   "execution_count": null,
   "id": "d0acb476-d2c0-45ee-bdac-31474687cf04",
   "metadata": {},
   "outputs": [],
   "source": []
  }
 ],
 "metadata": {
  "kernelspec": {
   "display_name": "Python 3 (ipykernel)",
   "language": "python",
   "name": "python3"
  },
  "language_info": {
   "codemirror_mode": {
    "name": "ipython",
    "version": 3
   },
   "file_extension": ".py",
   "mimetype": "text/x-python",
   "name": "python",
   "nbconvert_exporter": "python",
   "pygments_lexer": "ipython3",
   "version": "3.12.7"
  }
 },
 "nbformat": 4,
 "nbformat_minor": 5
}

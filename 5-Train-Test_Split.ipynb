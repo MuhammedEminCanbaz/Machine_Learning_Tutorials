{
 "cells": [
  {
   "cell_type": "code",
   "execution_count": 1,
   "id": "780c708d-2675-4a2a-b662-4002795b596d",
   "metadata": {},
   "outputs": [],
   "source": [
    "import pandas as pd\n",
    "from sklearn.linear_model import LinearRegression\n",
    "from sklearn.model_selection import train_test_split #veriyi train ve test olarak parçalamam için gerekli kütüphane"
   ]
  },
  {
   "cell_type": "code",
   "execution_count": 2,
   "id": "da36344a-af4a-4dff-8ef0-86fd5d05c797",
   "metadata": {},
   "outputs": [],
   "source": [
    "df = pd.read_csv('datasets/Audi_A1_listings.csv')"
   ]
  },
  {
   "cell_type": "code",
   "execution_count": 3,
   "id": "70e57936-4bb3-422f-bf86-a3ddee581aa7",
   "metadata": {},
   "outputs": [
    {
     "data": {
      "text/html": [
       "<div>\n",
       "<style scoped>\n",
       "    .dataframe tbody tr th:only-of-type {\n",
       "        vertical-align: middle;\n",
       "    }\n",
       "\n",
       "    .dataframe tbody tr th {\n",
       "        vertical-align: top;\n",
       "    }\n",
       "\n",
       "    .dataframe thead th {\n",
       "        text-align: right;\n",
       "    }\n",
       "</style>\n",
       "<table border=\"1\" class=\"dataframe\">\n",
       "  <thead>\n",
       "    <tr style=\"text-align: right;\">\n",
       "      <th></th>\n",
       "      <th>index</th>\n",
       "      <th>Year</th>\n",
       "      <th>Type</th>\n",
       "      <th>Mileage(miles)</th>\n",
       "      <th>Engine</th>\n",
       "      <th>PS</th>\n",
       "      <th>Transmission</th>\n",
       "      <th>Fuel</th>\n",
       "      <th>Number_of_Owners</th>\n",
       "      <th>Price(£)</th>\n",
       "      <th>href</th>\n",
       "      <th>PPY</th>\n",
       "      <th>MileageRank</th>\n",
       "      <th>PriceRank</th>\n",
       "      <th>PPYRank</th>\n",
       "      <th>Score</th>\n",
       "    </tr>\n",
       "  </thead>\n",
       "  <tbody>\n",
       "    <tr>\n",
       "      <th>0</th>\n",
       "      <td>0</td>\n",
       "      <td>2018.0</td>\n",
       "      <td>Hatchback</td>\n",
       "      <td>44000.0</td>\n",
       "      <td>1.6L</td>\n",
       "      <td>114.398422</td>\n",
       "      <td>Manual</td>\n",
       "      <td>Diesel</td>\n",
       "      <td>1</td>\n",
       "      <td>14995.0</td>\n",
       "      <td>https://www.autotrader.co.uk/car-details/20221...</td>\n",
       "      <td>2499.166667</td>\n",
       "      <td>215</td>\n",
       "      <td>163</td>\n",
       "      <td>340</td>\n",
       "      <td>718</td>\n",
       "    </tr>\n",
       "    <tr>\n",
       "      <th>1</th>\n",
       "      <td>4</td>\n",
       "      <td>2016.0</td>\n",
       "      <td>Hatchback</td>\n",
       "      <td>42596.0</td>\n",
       "      <td>1.0L</td>\n",
       "      <td>93.688363</td>\n",
       "      <td>Manual</td>\n",
       "      <td>Petrol</td>\n",
       "      <td>3</td>\n",
       "      <td>10755.0</td>\n",
       "      <td>https://www.autotrader.co.uk/car-details/20221...</td>\n",
       "      <td>2688.750000</td>\n",
       "      <td>222</td>\n",
       "      <td>330</td>\n",
       "      <td>276</td>\n",
       "      <td>828</td>\n",
       "    </tr>\n",
       "    <tr>\n",
       "      <th>2</th>\n",
       "      <td>7</td>\n",
       "      <td>2015.0</td>\n",
       "      <td>Hatchback</td>\n",
       "      <td>42700.0</td>\n",
       "      <td>1.4L</td>\n",
       "      <td>123.274162</td>\n",
       "      <td>Manual</td>\n",
       "      <td>Petrol</td>\n",
       "      <td>2</td>\n",
       "      <td>10799.0</td>\n",
       "      <td>https://www.autotrader.co.uk/car-details/20221...</td>\n",
       "      <td>3599.666667</td>\n",
       "      <td>221</td>\n",
       "      <td>327</td>\n",
       "      <td>94</td>\n",
       "      <td>642</td>\n",
       "    </tr>\n",
       "  </tbody>\n",
       "</table>\n",
       "</div>"
      ],
      "text/plain": [
       "   index    Year       Type  Mileage(miles) Engine          PS Transmission  \\\n",
       "0      0  2018.0  Hatchback         44000.0   1.6L  114.398422       Manual   \n",
       "1      4  2016.0  Hatchback         42596.0   1.0L   93.688363       Manual   \n",
       "2      7  2015.0  Hatchback         42700.0   1.4L  123.274162       Manual   \n",
       "\n",
       "     Fuel  Number_of_Owners  Price(£)  \\\n",
       "0  Diesel                 1   14995.0   \n",
       "1  Petrol                 3   10755.0   \n",
       "2  Petrol                 2   10799.0   \n",
       "\n",
       "                                                href          PPY  \\\n",
       "0  https://www.autotrader.co.uk/car-details/20221...  2499.166667   \n",
       "1  https://www.autotrader.co.uk/car-details/20221...  2688.750000   \n",
       "2  https://www.autotrader.co.uk/car-details/20221...  3599.666667   \n",
       "\n",
       "   MileageRank  PriceRank  PPYRank  Score  \n",
       "0          215        163      340    718  \n",
       "1          222        330      276    828  \n",
       "2          221        327       94    642  "
      ]
     },
     "execution_count": 3,
     "metadata": {},
     "output_type": "execute_result"
    }
   ],
   "source": [
    "df.head(3)"
   ]
  },
  {
   "cell_type": "code",
   "execution_count": 6,
   "id": "7adfdbc7-928f-4903-a0da-224564848fb8",
   "metadata": {},
   "outputs": [],
   "source": [
    "df = df[[\"Year\",\"Type\",\"Mileage(miles)\",\"Engine\",\"PS\",\"Transmission\",\"Fuel\",\"Number_of_Owners\",\"Price(£)\"]] \n",
    "# sahip olunan colonları değiştirip yeni bir df değişkeni oluşturup ona atadık"
   ]
  },
  {
   "cell_type": "code",
   "execution_count": 7,
   "id": "828bb934-661a-4b8c-b3f1-5351a2bf1035",
   "metadata": {},
   "outputs": [
    {
     "data": {
      "text/html": [
       "<div>\n",
       "<style scoped>\n",
       "    .dataframe tbody tr th:only-of-type {\n",
       "        vertical-align: middle;\n",
       "    }\n",
       "\n",
       "    .dataframe tbody tr th {\n",
       "        vertical-align: top;\n",
       "    }\n",
       "\n",
       "    .dataframe thead th {\n",
       "        text-align: right;\n",
       "    }\n",
       "</style>\n",
       "<table border=\"1\" class=\"dataframe\">\n",
       "  <thead>\n",
       "    <tr style=\"text-align: right;\">\n",
       "      <th></th>\n",
       "      <th>Year</th>\n",
       "      <th>Type</th>\n",
       "      <th>Mileage(miles)</th>\n",
       "      <th>Engine</th>\n",
       "      <th>PS</th>\n",
       "      <th>Transmission</th>\n",
       "      <th>Fuel</th>\n",
       "      <th>Number_of_Owners</th>\n",
       "      <th>Price(£)</th>\n",
       "    </tr>\n",
       "  </thead>\n",
       "  <tbody>\n",
       "    <tr>\n",
       "      <th>0</th>\n",
       "      <td>2018.0</td>\n",
       "      <td>Hatchback</td>\n",
       "      <td>44000.0</td>\n",
       "      <td>1.6L</td>\n",
       "      <td>114.398422</td>\n",
       "      <td>Manual</td>\n",
       "      <td>Diesel</td>\n",
       "      <td>1</td>\n",
       "      <td>14995.0</td>\n",
       "    </tr>\n",
       "    <tr>\n",
       "      <th>1</th>\n",
       "      <td>2016.0</td>\n",
       "      <td>Hatchback</td>\n",
       "      <td>42596.0</td>\n",
       "      <td>1.0L</td>\n",
       "      <td>93.688363</td>\n",
       "      <td>Manual</td>\n",
       "      <td>Petrol</td>\n",
       "      <td>3</td>\n",
       "      <td>10755.0</td>\n",
       "    </tr>\n",
       "    <tr>\n",
       "      <th>2</th>\n",
       "      <td>2015.0</td>\n",
       "      <td>Hatchback</td>\n",
       "      <td>42700.0</td>\n",
       "      <td>1.4L</td>\n",
       "      <td>123.274162</td>\n",
       "      <td>Manual</td>\n",
       "      <td>Petrol</td>\n",
       "      <td>2</td>\n",
       "      <td>10799.0</td>\n",
       "    </tr>\n",
       "  </tbody>\n",
       "</table>\n",
       "</div>"
      ],
      "text/plain": [
       "     Year       Type  Mileage(miles) Engine          PS Transmission    Fuel  \\\n",
       "0  2018.0  Hatchback         44000.0   1.6L  114.398422       Manual  Diesel   \n",
       "1  2016.0  Hatchback         42596.0   1.0L   93.688363       Manual  Petrol   \n",
       "2  2015.0  Hatchback         42700.0   1.4L  123.274162       Manual  Petrol   \n",
       "\n",
       "   Number_of_Owners  Price(£)  \n",
       "0                 1   14995.0  \n",
       "1                 3   10755.0  \n",
       "2                 2   10799.0  "
      ]
     },
     "execution_count": 7,
     "metadata": {},
     "output_type": "execute_result"
    }
   ],
   "source": [
    "df.head(3)"
   ]
  },
  {
   "cell_type": "code",
   "execution_count": 8,
   "id": "3d545da8-6160-4f54-8c7f-1f506fe27958",
   "metadata": {},
   "outputs": [],
   "source": [
    "df.columns = [\"yil\",\"kasa\",\"mil\",\"motor\",\"ps\",\"vites\",\"yakit\",\"sahip\",\"fiyat\"]\n",
    "# colonların isimlerini değiştirdik"
   ]
  },
  {
   "cell_type": "code",
   "execution_count": 9,
   "id": "695dbea5-c2f6-4be3-b073-ed5c07892e52",
   "metadata": {},
   "outputs": [],
   "source": [
    "df[\"motor\"] = df[\"motor\"].str.replace(\"L\",\"\")\n",
    "df[\"motor\"]=pd.to_numeric(df[\"motor\"])\n",
    "#motor sütunundaki L harfini atıp numeric veriye cevirdik"
   ]
  },
  {
   "cell_type": "code",
   "execution_count": 10,
   "id": "5de3dcdb-f1b9-4a43-aac3-65f91d0f8ecf",
   "metadata": {},
   "outputs": [],
   "source": [
    "df = pd.get_dummies(df,columns=[\"kasa\",\"vites\",\"yakit\"],drop_first=True) # isimleri verilen sütunları dummie ettim, yani numericleştirdim"
   ]
  },
  {
   "cell_type": "code",
   "execution_count": 11,
   "id": "849082f9-dafe-4ab6-be5e-5cc628e1fc18",
   "metadata": {},
   "outputs": [],
   "source": [
    "y = df[[\"fiyat\"]]\n",
    "x = df.drop(\"fiyat\",axis = 1) # drop fonksiyonunun farklı şekilde kullanımı"
   ]
  },
  {
   "cell_type": "code",
   "execution_count": 12,
   "id": "25b8548d-0acf-4a29-9bc2-dffb5f33def1",
   "metadata": {},
   "outputs": [],
   "source": [
    "x_train,x_test,y_train,y_test = train_test_split(x,y,train_size = 0.7,random_state=22) # train ve test ayırması gerçekleştirildi\n",
    "# train verisi %70 i olacak tüm verinin"
   ]
  },
  {
   "cell_type": "code",
   "execution_count": 14,
   "id": "6d3dbbe3-4e90-4e13-8e06-1c974adee38b",
   "metadata": {},
   "outputs": [
    {
     "data": {
      "text/plain": [
       "0.9065438569490104"
      ]
     },
     "execution_count": 14,
     "metadata": {},
     "output_type": "execute_result"
    }
   ],
   "source": [
    "lm = LinearRegression()\n",
    "model=lm.fit(x_train,y_train)\n",
    "model.score(x_test,y_test) \n",
    "# model eğitildi ve skoru ogrenildi"
   ]
  },
  {
   "cell_type": "code",
   "execution_count": 17,
   "id": "f39cdda2-5d48-498f-b200-3ae64ec00be8",
   "metadata": {},
   "outputs": [
    {
     "name": "stderr",
     "output_type": "stream",
     "text": [
      "C:\\ProgramData\\anaconda3\\Lib\\site-packages\\sklearn\\base.py:493: UserWarning: X does not have valid feature names, but LinearRegression was fitted with feature names\n",
      "  warnings.warn(\n"
     ]
    },
    {
     "data": {
      "text/plain": [
       "array([[13704.96487686]])"
      ]
     },
     "execution_count": 17,
     "metadata": {},
     "output_type": "execute_result"
    }
   ],
   "source": [
    "model.predict([[2016,30000,1.0,90,5,0,1]]) # bir tahminleme"
   ]
  },
  {
   "cell_type": "code",
   "execution_count": null,
   "id": "9dc3b795-184c-4b01-94d2-94724067f993",
   "metadata": {},
   "outputs": [],
   "source": []
  }
 ],
 "metadata": {
  "kernelspec": {
   "display_name": "Python 3 (ipykernel)",
   "language": "python",
   "name": "python3"
  },
  "language_info": {
   "codemirror_mode": {
    "name": "ipython",
    "version": 3
   },
   "file_extension": ".py",
   "mimetype": "text/x-python",
   "name": "python",
   "nbconvert_exporter": "python",
   "pygments_lexer": "ipython3",
   "version": "3.12.7"
  }
 },
 "nbformat": 4,
 "nbformat_minor": 5
}

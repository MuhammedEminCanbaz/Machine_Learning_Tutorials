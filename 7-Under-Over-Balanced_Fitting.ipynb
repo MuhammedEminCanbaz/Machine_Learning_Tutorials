{
 "cells": [
  {
   "cell_type": "markdown",
   "id": "4ea6c8c6-8472-49b1-ba77-e626a95cf5d7",
   "metadata": {},
   "source": [
    "Makine öğrenmesinde modellerimizi eğitiriz ve başarılı sonuçlar ile yeni verilerde çalışmalarını isteriz. Fakat bazen eğitim sırasındaki kaynak yetersizliği, yanlış veya eksik parametreler kullanılır ve bu bazı sorunlara yol açar.\n",
    "\n",
    "1- Underfitting : Underfitting yeterince öğrenememe olarak yorumlanabilir. Örneğin bir model eğittik ve bu model hiç de başarılı bir sonuç ortaya koymadı, beklediğimizden çok daha düşük başarı ile tahminleme yapıyor. Bu durum underfitting olarak yorumlanır. Sebepleri veri yetersizliği, tekdüze veriler vb. olabilir.\n",
    "\n",
    "2- Overfitting : Overfitting ise aşırı öğrenme ya da ezberleme olarak nitelendirilebilir. Örneğin bir model eğittik ve bu model eğitim veri setimiz üzerinde çok başarılı bir şekilde analiz sağlıyor. Fakat yeni veriler üzerinde çalışmasını istediğimizde bu başarı çok çok daha düşük. Bu durum overfitting olarak yorumlanır. Yani modelimiz ona verilen veriler üzerinden o kadar öğrenmiştir ki farklı bir veri gördüğünde bunun tahminlemesini başarıyla yapamaz. Sebepleri veri setinin çeşitliliğinin az olması, gereğinden fazla benzer veri ile eğitim vb olabilir. \n",
    "\n",
    "3- Balancedfitting : Balancedfitting ise doğru öğrenme olarak yorumlanabilir. Yani bir modele yeterince veri ile ve doğru parametreler ile eğitim sağlarsak bu model beklediğimiz kadar başarılı şekilde analiz yapabilir ve makine öğrenmesi problemlerine çözüm sunabilir. Bu durum beklenen ve istenen durumdur. "
   ]
  }
 ],
 "metadata": {
  "kernelspec": {
   "display_name": "Python 3 (ipykernel)",
   "language": "python",
   "name": "python3"
  },
  "language_info": {
   "codemirror_mode": {
    "name": "ipython",
    "version": 3
   },
   "file_extension": ".py",
   "mimetype": "text/x-python",
   "name": "python",
   "nbconvert_exporter": "python",
   "pygments_lexer": "ipython3",
   "version": "3.12.7"
  }
 },
 "nbformat": 4,
 "nbformat_minor": 5
}

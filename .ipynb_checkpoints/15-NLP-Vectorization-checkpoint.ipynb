{
 "cells": [
  {
   "cell_type": "code",
   "execution_count": 1,
   "id": "58443e2a-64c3-41b9-b3e8-f7af0e77cdf6",
   "metadata": {},
   "outputs": [],
   "source": [
    "# NLP çalışırken her kelimenin makine öğrenmesi algoritmasında bir anlama oturtulması gerekir, bu anlam da vektörleştirme ile sağlanır\n",
    "# doğru vektörleştirme önemlidir ve vektörleştirme için kullanılan yöntemlerden birini bugün inceleyeceğiz."
   ]
  },
  {
   "cell_type": "code",
   "execution_count": 2,
   "id": "78112e3a-9c89-4dd5-9ee5-697bd3d949a3",
   "metadata": {},
   "outputs": [],
   "source": [
    "import pandas as pd\n",
    "import numpy as np\n",
    "from sklearn.feature_extraction.text import CountVectorizer"
   ]
  },
  {
   "cell_type": "code",
   "execution_count": 3,
   "id": "8a578d65-6a3f-40fa-8fd7-172940365ee8",
   "metadata": {},
   "outputs": [],
   "source": [
    "df = pd.DataFrame()"
   ]
  },
  {
   "cell_type": "code",
   "execution_count": 4,
   "id": "0bd19008-08db-4b4d-a033-bc49f07afa11",
   "metadata": {},
   "outputs": [],
   "source": [
    "df[\"cumleler\"] = [\"ali bak\",\"ali ata bak\",\"bak ali bak\",\"ali güzel ata bak\",\"ışık ılık süt iç\",\"ışık süt iç\"] # gibi rastgele cümleler tanımladık"
   ]
  },
  {
   "cell_type": "code",
   "execution_count": 5,
   "id": "0303d830-b651-43fc-ab3d-b4259f10f2dc",
   "metadata": {},
   "outputs": [],
   "source": [
    "cv = CountVectorizer(max_features = 4) # cv adında bir vektörleştirme değişkeni oluşturduk ve en fazla 4 özellik tutmasını istedik\n",
    "# yukarıdaki kelimelere baktığında en önemli gördüğü 4 kelimeyi bir anlam ifade etmesine göre kullanıcak modelimiz"
   ]
  },
  {
   "cell_type": "code",
   "execution_count": 6,
   "id": "d13160e9-da02-478b-999a-df3c411d2a9e",
   "metadata": {},
   "outputs": [],
   "source": [
    "a = cv.fit_transform(df[\"cumleler\"]) # a adında bir değişkenimizin içine cümleler sutunundaki kelimeleri vektörize edip veriyoruz."
   ]
  },
  {
   "cell_type": "code",
   "execution_count": 7,
   "id": "b08f440e-10c8-434e-8634-396d6cd8a4b2",
   "metadata": {},
   "outputs": [
    {
     "data": {
      "text/plain": [
       "array([[1, 0, 1, 0],\n",
       "       [1, 1, 1, 0],\n",
       "       [1, 0, 2, 0],\n",
       "       [1, 1, 1, 0],\n",
       "       [0, 0, 0, 1],\n",
       "       [0, 0, 0, 1]], dtype=int64)"
      ]
     },
     "execution_count": 7,
     "metadata": {},
     "output_type": "execute_result"
    }
   ],
   "source": [
    "a.toarray() # a yı listeye dönüştürdük"
   ]
  },
  {
   "cell_type": "code",
   "execution_count": 8,
   "id": "1d270d9d-4926-4c6f-8458-570cf1c83c57",
   "metadata": {},
   "outputs": [
    {
     "data": {
      "text/plain": [
       "array(['ali', 'ata', 'bak', 'iç'], dtype=object)"
      ]
     },
     "execution_count": 8,
     "metadata": {},
     "output_type": "execute_result"
    }
   ],
   "source": [
    "cv.get_feature_names_out() # burada özellik çıkarımı için hangi kelimeleri kullandığını görebiliyoruz."
   ]
  },
  {
   "cell_type": "code",
   "execution_count": 9,
   "id": "9c7d831a-10c7-4030-b6fe-29dd8b666e2a",
   "metadata": {},
   "outputs": [],
   "source": [
    "# stop words adı verdiğimiz de bir konu var, dillerde çok kullanılan ama net bir anlam ifade etmeyen ve modellerimizde kullanılmasına gerek olmayan kelimelerdir.\n",
    "# onları bulmayı veya silmeyi burada göstermeyeeceğiz fakat nlp projelerinde stop words'un de önemini bilmek gerekir."
   ]
  }
 ],
 "metadata": {
  "kernelspec": {
   "display_name": "Python 3 (ipykernel)",
   "language": "python",
   "name": "python3"
  },
  "language_info": {
   "codemirror_mode": {
    "name": "ipython",
    "version": 3
   },
   "file_extension": ".py",
   "mimetype": "text/x-python",
   "name": "python",
   "nbconvert_exporter": "python",
   "pygments_lexer": "ipython3",
   "version": "3.12.7"
  }
 },
 "nbformat": 4,
 "nbformat_minor": 5
}

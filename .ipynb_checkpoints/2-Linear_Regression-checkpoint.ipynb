{
 "cells": [
  {
   "cell_type": "code",
   "execution_count": 2,
   "id": "b35053fa-30cb-480a-a4d6-2c7f9e82c145",
   "metadata": {},
   "outputs": [],
   "source": [
    "from sklearn.linear_model import LinearRegression\n",
    "import pandas as pd\n",
    "\n",
    "# Sklearn makine öğrenmesi için hazır çalışmaların bulunduğu kütüphane, içerisinden linear modeller arasında olan LinearRegression'u import ediyoruz."
   ]
  },
  {
   "cell_type": "code",
   "execution_count": 3,
   "id": "fac04871-d460-4cae-a254-ef6eded6104c",
   "metadata": {},
   "outputs": [],
   "source": [
    "# y = mx + m1x1 b üzerinden gidilecek"
   ]
  },
  {
   "cell_type": "code",
   "execution_count": 4,
   "id": "0104e1a7-d9e3-4251-a04f-f7e3fdcbf2e6",
   "metadata": {},
   "outputs": [],
   "source": [
    "df = pd.read_csv(\"datasets/Student_Marks.csv\") # veri setini okuduk"
   ]
  },
  {
   "cell_type": "code",
   "execution_count": 5,
   "id": "af140b17-91ed-4fea-989b-7b3c0ff9c567",
   "metadata": {},
   "outputs": [
    {
     "data": {
      "text/html": [
       "<div>\n",
       "<style scoped>\n",
       "    .dataframe tbody tr th:only-of-type {\n",
       "        vertical-align: middle;\n",
       "    }\n",
       "\n",
       "    .dataframe tbody tr th {\n",
       "        vertical-align: top;\n",
       "    }\n",
       "\n",
       "    .dataframe thead th {\n",
       "        text-align: right;\n",
       "    }\n",
       "</style>\n",
       "<table border=\"1\" class=\"dataframe\">\n",
       "  <thead>\n",
       "    <tr style=\"text-align: right;\">\n",
       "      <th></th>\n",
       "      <th>number_courses</th>\n",
       "      <th>time_study</th>\n",
       "      <th>Marks</th>\n",
       "    </tr>\n",
       "  </thead>\n",
       "  <tbody>\n",
       "    <tr>\n",
       "      <th>0</th>\n",
       "      <td>3</td>\n",
       "      <td>4.508</td>\n",
       "      <td>19.202</td>\n",
       "    </tr>\n",
       "    <tr>\n",
       "      <th>1</th>\n",
       "      <td>4</td>\n",
       "      <td>0.096</td>\n",
       "      <td>7.734</td>\n",
       "    </tr>\n",
       "    <tr>\n",
       "      <th>2</th>\n",
       "      <td>4</td>\n",
       "      <td>3.133</td>\n",
       "      <td>13.811</td>\n",
       "    </tr>\n",
       "  </tbody>\n",
       "</table>\n",
       "</div>"
      ],
      "text/plain": [
       "   number_courses  time_study   Marks\n",
       "0               3       4.508  19.202\n",
       "1               4       0.096   7.734\n",
       "2               4       3.133  13.811"
      ]
     },
     "execution_count": 5,
     "metadata": {},
     "output_type": "execute_result"
    }
   ],
   "source": [
    "df.head(3)"
   ]
  },
  {
   "cell_type": "code",
   "execution_count": 6,
   "id": "efe7251a-1a74-4bb2-8df9-9e1a33568b63",
   "metadata": {},
   "outputs": [],
   "source": [
    "# ÇALIŞMA SAATİ VE SINIF NUMARASI DEĞİŞKENLERİ ÜZERİNDEN NOT TAHMİNİ YAPMAYI HEDEFLİYORUZ\n",
    "# NOT = A1X1 + A2X2 + B\n",
    "# a1 in ve a2 nin sonuca etkisini bir model ile öğreneceğiz"
   ]
  },
  {
   "cell_type": "code",
   "execution_count": 7,
   "id": "04ce5da2-d419-4f27-921e-29941847af67",
   "metadata": {},
   "outputs": [],
   "source": [
    "y = df[['Marks']]\n",
    "x = df[[\"number_courses\",\"time_study\"]]"
   ]
  },
  {
   "cell_type": "code",
   "execution_count": 8,
   "id": "68741672-fdfe-4153-beae-703d9f1aa7eb",
   "metadata": {},
   "outputs": [
    {
     "name": "stdout",
     "output_type": "stream",
     "text": [
      "<class 'pandas.core.frame.DataFrame'>\n",
      "RangeIndex: 100 entries, 0 to 99\n",
      "Data columns (total 3 columns):\n",
      " #   Column          Non-Null Count  Dtype  \n",
      "---  ------          --------------  -----  \n",
      " 0   number_courses  100 non-null    int64  \n",
      " 1   time_study      100 non-null    float64\n",
      " 2   Marks           100 non-null    float64\n",
      "dtypes: float64(2), int64(1)\n",
      "memory usage: 2.5 KB\n"
     ]
    }
   ],
   "source": [
    "df.info()"
   ]
  },
  {
   "cell_type": "code",
   "execution_count": 9,
   "id": "c68b405b-058b-4260-83c5-dc727161dbf5",
   "metadata": {},
   "outputs": [],
   "source": [
    "linear_model = LinearRegression()\n",
    "model = linear_model.fit(x,y) # bu kod bloğu ile öğrenmesini sağlıyoruz. Bağıntıları ve katsayıların ağırlıklarını öğrenecek"
   ]
  },
  {
   "cell_type": "code",
   "execution_count": 10,
   "id": "bb89717a-c5a1-4e07-bd06-84e774629b82",
   "metadata": {},
   "outputs": [
    {
     "name": "stderr",
     "output_type": "stream",
     "text": [
      "C:\\ProgramData\\anaconda3\\Lib\\site-packages\\sklearn\\base.py:493: UserWarning: X does not have valid feature names, but LinearRegression was fitted with feature names\n",
      "  warnings.warn(\n"
     ]
    },
    {
     "data": {
      "text/plain": [
       "array([[8.93416357]])"
      ]
     },
     "execution_count": 10,
     "metadata": {},
     "output_type": "execute_result"
    }
   ],
   "source": [
    "model.predict([[3,2]]) # sınıf ve çalışılan saat parametrelerini verip marks tahminlemesini sağladım"
   ]
  },
  {
   "cell_type": "code",
   "execution_count": 11,
   "id": "7111b8ea-5be5-4e29-9477-77ef2eb046b6",
   "metadata": {},
   "outputs": [
    {
     "data": {
      "text/plain": [
       "55.299"
      ]
     },
     "execution_count": 11,
     "metadata": {},
     "output_type": "execute_result"
    }
   ],
   "source": [
    "df[\"Marks\"].max() # marks yani notlar adlı sütundaki en büyük değer"
   ]
  },
  {
   "cell_type": "code",
   "execution_count": 12,
   "id": "37811abe-c490-408d-9e40-1fb8926bf9e5",
   "metadata": {},
   "outputs": [
    {
     "data": {
      "text/plain": [
       "0.9403656320238896"
      ]
     },
     "execution_count": 12,
     "metadata": {},
     "output_type": "execute_result"
    }
   ],
   "source": [
    "model.score(x,y) # hangi oranla doğru tahmin ettik"
   ]
  },
  {
   "cell_type": "code",
   "execution_count": null,
   "id": "5b03480e-a153-47df-a129-acec01e0215a",
   "metadata": {},
   "outputs": [],
   "source": []
  }
 ],
 "metadata": {
  "kernelspec": {
   "display_name": "Python 3 (ipykernel)",
   "language": "python",
   "name": "python3"
  },
  "language_info": {
   "codemirror_mode": {
    "name": "ipython",
    "version": 3
   },
   "file_extension": ".py",
   "mimetype": "text/x-python",
   "name": "python",
   "nbconvert_exporter": "python",
   "pygments_lexer": "ipython3",
   "version": "3.12.7"
  }
 },
 "nbformat": 4,
 "nbformat_minor": 5
}

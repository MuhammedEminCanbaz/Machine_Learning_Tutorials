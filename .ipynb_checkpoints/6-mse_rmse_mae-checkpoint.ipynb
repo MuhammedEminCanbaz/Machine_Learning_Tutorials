{
 "cells": [
  {
   "cell_type": "code",
   "execution_count": 1,
   "id": "fc9c82f3-4e79-4448-95a1-d103322fe1d0",
   "metadata": {},
   "outputs": [],
   "source": [
    "# MSE RMSE MAE MAPE bunlar hataların hesaplanma metodları"
   ]
  },
  {
   "cell_type": "code",
   "execution_count": 2,
   "id": "9816911b-856b-4954-a067-beeaf83ca1c0",
   "metadata": {},
   "outputs": [],
   "source": [
    "import numpy as np\n",
    "import pandas as pd\n",
    "from sklearn.linear_model import LinearRegression\n",
    "from sklearn.metrics import mean_squared_error,mean_absolute_error,mean_absolute_percentage_error #bunlar aşağıda uzun uzun yaptığımız işlemlerin fonksiyonları\n"
   ]
  },
  {
   "cell_type": "code",
   "execution_count": 3,
   "id": "6af288e6-49b1-4402-885d-799fa4dbbf55",
   "metadata": {},
   "outputs": [],
   "source": [
    "df = pd.read_csv(\"datasets/insurance.csv\")"
   ]
  },
  {
   "cell_type": "code",
   "execution_count": 4,
   "id": "91aefb23-d0cd-4603-b1db-d72a85be9176",
   "metadata": {},
   "outputs": [
    {
     "data": {
      "text/html": [
       "<div>\n",
       "<style scoped>\n",
       "    .dataframe tbody tr th:only-of-type {\n",
       "        vertical-align: middle;\n",
       "    }\n",
       "\n",
       "    .dataframe tbody tr th {\n",
       "        vertical-align: top;\n",
       "    }\n",
       "\n",
       "    .dataframe thead th {\n",
       "        text-align: right;\n",
       "    }\n",
       "</style>\n",
       "<table border=\"1\" class=\"dataframe\">\n",
       "  <thead>\n",
       "    <tr style=\"text-align: right;\">\n",
       "      <th></th>\n",
       "      <th>age</th>\n",
       "      <th>sex</th>\n",
       "      <th>bmi</th>\n",
       "      <th>children</th>\n",
       "      <th>smoker</th>\n",
       "      <th>region</th>\n",
       "      <th>charges</th>\n",
       "    </tr>\n",
       "  </thead>\n",
       "  <tbody>\n",
       "    <tr>\n",
       "      <th>0</th>\n",
       "      <td>19</td>\n",
       "      <td>female</td>\n",
       "      <td>27.90</td>\n",
       "      <td>0</td>\n",
       "      <td>yes</td>\n",
       "      <td>southwest</td>\n",
       "      <td>16884.9240</td>\n",
       "    </tr>\n",
       "    <tr>\n",
       "      <th>1</th>\n",
       "      <td>18</td>\n",
       "      <td>male</td>\n",
       "      <td>33.77</td>\n",
       "      <td>1</td>\n",
       "      <td>no</td>\n",
       "      <td>southeast</td>\n",
       "      <td>1725.5523</td>\n",
       "    </tr>\n",
       "    <tr>\n",
       "      <th>2</th>\n",
       "      <td>28</td>\n",
       "      <td>male</td>\n",
       "      <td>33.00</td>\n",
       "      <td>3</td>\n",
       "      <td>no</td>\n",
       "      <td>southeast</td>\n",
       "      <td>4449.4620</td>\n",
       "    </tr>\n",
       "  </tbody>\n",
       "</table>\n",
       "</div>"
      ],
      "text/plain": [
       "   age     sex    bmi  children smoker     region     charges\n",
       "0   19  female  27.90         0    yes  southwest  16884.9240\n",
       "1   18    male  33.77         1     no  southeast   1725.5523\n",
       "2   28    male  33.00         3     no  southeast   4449.4620"
      ]
     },
     "execution_count": 4,
     "metadata": {},
     "output_type": "execute_result"
    }
   ],
   "source": [
    "df.head(3)"
   ]
  },
  {
   "cell_type": "code",
   "execution_count": 5,
   "id": "7c9678e6-15d3-4993-b967-7f2e5586b20b",
   "metadata": {},
   "outputs": [],
   "source": [
    "df = pd.get_dummies(df,columns =[\"sex\",\"smoker\",\"region\"],drop_first=True)\n",
    "#kategorik değişkenleri yeni satırlarda farklı şekilde belirttik sayısal olarak"
   ]
  },
  {
   "cell_type": "code",
   "execution_count": 6,
   "id": "f18bfc39-2452-4700-b74b-73c086d73c62",
   "metadata": {},
   "outputs": [
    {
     "data": {
      "text/html": [
       "<div>\n",
       "<style scoped>\n",
       "    .dataframe tbody tr th:only-of-type {\n",
       "        vertical-align: middle;\n",
       "    }\n",
       "\n",
       "    .dataframe tbody tr th {\n",
       "        vertical-align: top;\n",
       "    }\n",
       "\n",
       "    .dataframe thead th {\n",
       "        text-align: right;\n",
       "    }\n",
       "</style>\n",
       "<table border=\"1\" class=\"dataframe\">\n",
       "  <thead>\n",
       "    <tr style=\"text-align: right;\">\n",
       "      <th></th>\n",
       "      <th>age</th>\n",
       "      <th>bmi</th>\n",
       "      <th>children</th>\n",
       "      <th>charges</th>\n",
       "      <th>sex_male</th>\n",
       "      <th>smoker_yes</th>\n",
       "      <th>region_northwest</th>\n",
       "      <th>region_southeast</th>\n",
       "      <th>region_southwest</th>\n",
       "    </tr>\n",
       "  </thead>\n",
       "  <tbody>\n",
       "    <tr>\n",
       "      <th>0</th>\n",
       "      <td>19</td>\n",
       "      <td>27.90</td>\n",
       "      <td>0</td>\n",
       "      <td>16884.9240</td>\n",
       "      <td>False</td>\n",
       "      <td>True</td>\n",
       "      <td>False</td>\n",
       "      <td>False</td>\n",
       "      <td>True</td>\n",
       "    </tr>\n",
       "    <tr>\n",
       "      <th>1</th>\n",
       "      <td>18</td>\n",
       "      <td>33.77</td>\n",
       "      <td>1</td>\n",
       "      <td>1725.5523</td>\n",
       "      <td>True</td>\n",
       "      <td>False</td>\n",
       "      <td>False</td>\n",
       "      <td>True</td>\n",
       "      <td>False</td>\n",
       "    </tr>\n",
       "    <tr>\n",
       "      <th>2</th>\n",
       "      <td>28</td>\n",
       "      <td>33.00</td>\n",
       "      <td>3</td>\n",
       "      <td>4449.4620</td>\n",
       "      <td>True</td>\n",
       "      <td>False</td>\n",
       "      <td>False</td>\n",
       "      <td>True</td>\n",
       "      <td>False</td>\n",
       "    </tr>\n",
       "  </tbody>\n",
       "</table>\n",
       "</div>"
      ],
      "text/plain": [
       "   age    bmi  children     charges  sex_male  smoker_yes  region_northwest  \\\n",
       "0   19  27.90         0  16884.9240     False        True             False   \n",
       "1   18  33.77         1   1725.5523      True       False             False   \n",
       "2   28  33.00         3   4449.4620      True       False             False   \n",
       "\n",
       "   region_southeast  region_southwest  \n",
       "0             False              True  \n",
       "1              True             False  \n",
       "2              True             False  "
      ]
     },
     "execution_count": 6,
     "metadata": {},
     "output_type": "execute_result"
    }
   ],
   "source": [
    "df.head(3)"
   ]
  },
  {
   "cell_type": "code",
   "execution_count": 7,
   "id": "7db786bf-629b-42c5-a5bd-3ae280df018f",
   "metadata": {},
   "outputs": [],
   "source": [
    "#şimdi modelimizin parametrelerini değişkenlere atayacağız\n",
    "\n",
    "y = df[\"charges\"]\n",
    "x = df.drop(\"charges\",axis=1)"
   ]
  },
  {
   "cell_type": "code",
   "execution_count": 8,
   "id": "840216a1-d22e-4ef7-b95c-ec7379954dc7",
   "metadata": {},
   "outputs": [],
   "source": [
    "# modeli kuracağız\n",
    "\n",
    "lm = LinearRegression()\n",
    "model = lm.fit(x,y)"
   ]
  },
  {
   "cell_type": "code",
   "execution_count": 9,
   "id": "0d63be07-47b0-4a64-887e-146a5df27a6e",
   "metadata": {},
   "outputs": [
    {
     "data": {
      "text/plain": [
       "0.7509130345985207"
      ]
     },
     "execution_count": 9,
     "metadata": {},
     "output_type": "execute_result"
    }
   ],
   "source": [
    "model.score(x,y) # kaç doğrulukla bulduk"
   ]
  },
  {
   "cell_type": "code",
   "execution_count": 10,
   "id": "8fd5cfbb-b5f4-49af-8281-8f25178959de",
   "metadata": {},
   "outputs": [
    {
     "name": "stderr",
     "output_type": "stream",
     "text": [
      "C:\\ProgramData\\anaconda3\\Lib\\site-packages\\sklearn\\base.py:493: UserWarning: X does not have valid feature names, but LinearRegression was fitted with feature names\n",
      "  warnings.warn(\n"
     ]
    },
    {
     "data": {
      "text/plain": [
       "array([24517.93110714])"
      ]
     },
     "execution_count": 10,
     "metadata": {},
     "output_type": "execute_result"
    }
   ],
   "source": [
    "model.predict([[19,26,0,1,1,0,0,1]]) #yeni verilerle test ettik"
   ]
  },
  {
   "cell_type": "code",
   "execution_count": 11,
   "id": "60ba14c7-1979-4a1f-9f09-d504ea5f143e",
   "metadata": {},
   "outputs": [],
   "source": [
    "df_hata = pd.DataFrame() # df hata diye boş bir dataframe oluşturduk"
   ]
  },
  {
   "cell_type": "code",
   "execution_count": 12,
   "id": "35bace67-5992-4ce1-a43e-c6590deaeaf6",
   "metadata": {},
   "outputs": [],
   "source": [
    "df_hata['y'] = y # df_hata dataframe'ine bir sütun ekle adı y olsun, içindeki değerler\n",
    "# de önceden belirttiğimiz y değerleri olsun"
   ]
  },
  {
   "cell_type": "code",
   "execution_count": 13,
   "id": "aac5960f-7b07-4d4d-b3b6-355126b9b783",
   "metadata": {},
   "outputs": [],
   "source": [
    "y_tahmin = model.predict(x) #y tahmin diye bir değişken oluştur ve içerisinde az önce\n",
    "# x'lerden tahminlediğimiz değerler olsun sıralı zaten"
   ]
  },
  {
   "cell_type": "code",
   "execution_count": 14,
   "id": "ce9d5f76-c59b-4dda-a605-8ab86126bbae",
   "metadata": {},
   "outputs": [],
   "source": [
    "df_hata['y_tahmin'] = y_tahmin # tahminler için yeni bir sütun oluştur"
   ]
  },
  {
   "cell_type": "code",
   "execution_count": 15,
   "id": "117c889d-bd06-4204-be51-ea2bd586fe9e",
   "metadata": {},
   "outputs": [],
   "source": [
    "df_hata['hata'] = df_hata['y'] - df_hata['y_tahmin'] # ikisinin farkını içeren yeni bir sütun oluştur"
   ]
  },
  {
   "cell_type": "code",
   "execution_count": 17,
   "id": "4e916954-614c-4511-84af-288cf81193e1",
   "metadata": {},
   "outputs": [
    {
     "data": {
      "text/html": [
       "<div>\n",
       "<style scoped>\n",
       "    .dataframe tbody tr th:only-of-type {\n",
       "        vertical-align: middle;\n",
       "    }\n",
       "\n",
       "    .dataframe tbody tr th {\n",
       "        vertical-align: top;\n",
       "    }\n",
       "\n",
       "    .dataframe thead th {\n",
       "        text-align: right;\n",
       "    }\n",
       "</style>\n",
       "<table border=\"1\" class=\"dataframe\">\n",
       "  <thead>\n",
       "    <tr style=\"text-align: right;\">\n",
       "      <th></th>\n",
       "      <th>y</th>\n",
       "      <th>y_tahmin</th>\n",
       "      <th>hata</th>\n",
       "    </tr>\n",
       "  </thead>\n",
       "  <tbody>\n",
       "    <tr>\n",
       "      <th>0</th>\n",
       "      <td>16884.9240</td>\n",
       "      <td>25293.713028</td>\n",
       "      <td>-8408.789028</td>\n",
       "    </tr>\n",
       "    <tr>\n",
       "      <th>1</th>\n",
       "      <td>1725.5523</td>\n",
       "      <td>3448.602834</td>\n",
       "      <td>-1723.050534</td>\n",
       "    </tr>\n",
       "    <tr>\n",
       "      <th>2</th>\n",
       "      <td>4449.4620</td>\n",
       "      <td>6706.988491</td>\n",
       "      <td>-2257.526491</td>\n",
       "    </tr>\n",
       "  </tbody>\n",
       "</table>\n",
       "</div>"
      ],
      "text/plain": [
       "            y      y_tahmin         hata\n",
       "0  16884.9240  25293.713028 -8408.789028\n",
       "1   1725.5523   3448.602834 -1723.050534\n",
       "2   4449.4620   6706.988491 -2257.526491"
      ]
     },
     "execution_count": 17,
     "metadata": {},
     "output_type": "execute_result"
    }
   ],
   "source": [
    "df_hata.head(3)"
   ]
  },
  {
   "cell_type": "code",
   "execution_count": 18,
   "id": "5c8db3c2-8c50-4f52-86b6-db2dab76845b",
   "metadata": {},
   "outputs": [],
   "source": [
    "df_hata['squared_error'] = df_hata['hata']**2 #tüm hataların karesini alıp yeni bir sütuna yazdırdık  MSE"
   ]
  },
  {
   "cell_type": "code",
   "execution_count": 19,
   "id": "2637eae8-14d7-4239-8de9-f3df8388b8ab",
   "metadata": {},
   "outputs": [],
   "source": [
    "df_hata[\"abs_error\"]=np.abs(df_hata['hata']) # tüm hataların mutlak değerlerini aldık  MAE"
   ]
  },
  {
   "cell_type": "code",
   "execution_count": 20,
   "id": "ab9995fb-e9a4-4fbb-8c58-d5acdb9c0049",
   "metadata": {},
   "outputs": [],
   "source": [
    "df_hata[\"percent_error\"] = np.abs((y-y_tahmin)/y) # tüm hataların doğruya göre oranına baktık  MAPE"
   ]
  },
  {
   "cell_type": "code",
   "execution_count": 21,
   "id": "22174863-3269-44e9-b5fd-91b6983cd872",
   "metadata": {},
   "outputs": [
    {
     "data": {
      "text/html": [
       "<div>\n",
       "<style scoped>\n",
       "    .dataframe tbody tr th:only-of-type {\n",
       "        vertical-align: middle;\n",
       "    }\n",
       "\n",
       "    .dataframe tbody tr th {\n",
       "        vertical-align: top;\n",
       "    }\n",
       "\n",
       "    .dataframe thead th {\n",
       "        text-align: right;\n",
       "    }\n",
       "</style>\n",
       "<table border=\"1\" class=\"dataframe\">\n",
       "  <thead>\n",
       "    <tr style=\"text-align: right;\">\n",
       "      <th></th>\n",
       "      <th>y</th>\n",
       "      <th>y_tahmin</th>\n",
       "      <th>hata</th>\n",
       "      <th>squared_error</th>\n",
       "      <th>abs_error</th>\n",
       "      <th>percent_error</th>\n",
       "    </tr>\n",
       "  </thead>\n",
       "  <tbody>\n",
       "    <tr>\n",
       "      <th>0</th>\n",
       "      <td>16884.9240</td>\n",
       "      <td>25293.713028</td>\n",
       "      <td>-8408.789028</td>\n",
       "      <td>7.070773e+07</td>\n",
       "      <td>8408.789028</td>\n",
       "      <td>0.498006</td>\n",
       "    </tr>\n",
       "    <tr>\n",
       "      <th>1</th>\n",
       "      <td>1725.5523</td>\n",
       "      <td>3448.602834</td>\n",
       "      <td>-1723.050534</td>\n",
       "      <td>2.968903e+06</td>\n",
       "      <td>1723.050534</td>\n",
       "      <td>0.998550</td>\n",
       "    </tr>\n",
       "    <tr>\n",
       "      <th>2</th>\n",
       "      <td>4449.4620</td>\n",
       "      <td>6706.988491</td>\n",
       "      <td>-2257.526491</td>\n",
       "      <td>5.096426e+06</td>\n",
       "      <td>2257.526491</td>\n",
       "      <td>0.507371</td>\n",
       "    </tr>\n",
       "  </tbody>\n",
       "</table>\n",
       "</div>"
      ],
      "text/plain": [
       "            y      y_tahmin         hata  squared_error    abs_error  \\\n",
       "0  16884.9240  25293.713028 -8408.789028   7.070773e+07  8408.789028   \n",
       "1   1725.5523   3448.602834 -1723.050534   2.968903e+06  1723.050534   \n",
       "2   4449.4620   6706.988491 -2257.526491   5.096426e+06  2257.526491   \n",
       "\n",
       "   percent_error  \n",
       "0       0.498006  \n",
       "1       0.998550  \n",
       "2       0.507371  "
      ]
     },
     "execution_count": 21,
     "metadata": {},
     "output_type": "execute_result"
    }
   ],
   "source": [
    "df_hata.head(3)"
   ]
  },
  {
   "cell_type": "code",
   "execution_count": 26,
   "id": "e20ccae7-8ea2-42c6-a44e-aa1d6ee4ac4f",
   "metadata": {},
   "outputs": [
    {
     "data": {
      "text/plain": [
       "y                1.327042e+04\n",
       "y_tahmin         1.327042e+04\n",
       "hata             5.111659e-13\n",
       "squared_error    3.650189e+07\n",
       "abs_error        4.170887e+03\n",
       "percent_error    4.203527e-01\n",
       "dtype: float64"
      ]
     },
     "execution_count": 26,
     "metadata": {},
     "output_type": "execute_result"
    }
   ],
   "source": [
    "df_hata.mean() # tüm sütunların ortalamasını karşılaştırabilmek adına yazdırdım"
   ]
  },
  {
   "cell_type": "code",
   "execution_count": 23,
   "id": "296c8fca-0dd0-423f-b2b5-7932aad93543",
   "metadata": {},
   "outputs": [
    {
     "data": {
      "text/plain": [
       "36501893.00741544"
      ]
     },
     "execution_count": 23,
     "metadata": {},
     "output_type": "execute_result"
    }
   ],
   "source": [
    "mean_squared_error(y,y_tahmin) #MSE"
   ]
  },
  {
   "cell_type": "code",
   "execution_count": 24,
   "id": "0f9b07eb-3847-4d85-831b-f452cbadece4",
   "metadata": {},
   "outputs": [
    {
     "data": {
      "text/plain": [
       "4170.8868941635865"
      ]
     },
     "execution_count": 24,
     "metadata": {},
     "output_type": "execute_result"
    }
   ],
   "source": [
    "mean_absolute_error(y,y_tahmin) #MAE"
   ]
  },
  {
   "cell_type": "code",
   "execution_count": 25,
   "id": "b0b37393-baef-47a2-980c-027e79b23f24",
   "metadata": {},
   "outputs": [
    {
     "data": {
      "text/plain": [
       "0.42035268473727033"
      ]
     },
     "execution_count": 25,
     "metadata": {},
     "output_type": "execute_result"
    }
   ],
   "source": [
    "mean_absolute_percentage_error(y,y_tahmin) #MAPE"
   ]
  },
  {
   "cell_type": "code",
   "execution_count": null,
   "id": "6f2896bb-8f52-4442-9f26-2d13bb1d3dc0",
   "metadata": {},
   "outputs": [],
   "source": []
  }
 ],
 "metadata": {
  "kernelspec": {
   "display_name": "Python 3 (ipykernel)",
   "language": "python",
   "name": "python3"
  },
  "language_info": {
   "codemirror_mode": {
    "name": "ipython",
    "version": 3
   },
   "file_extension": ".py",
   "mimetype": "text/x-python",
   "name": "python",
   "nbconvert_exporter": "python",
   "pygments_lexer": "ipython3",
   "version": "3.12.7"
  }
 },
 "nbformat": 4,
 "nbformat_minor": 5
}

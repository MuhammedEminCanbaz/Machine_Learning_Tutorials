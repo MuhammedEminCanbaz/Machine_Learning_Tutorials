{
 "cells": [
  {
   "cell_type": "code",
   "execution_count": 1,
   "id": "f7784445-7476-4cc0-9a20-75a80e7bb636",
   "metadata": {},
   "outputs": [],
   "source": [
    "# Regresyon ve Sınıflandırma"
   ]
  },
  {
   "cell_type": "code",
   "execution_count": 2,
   "id": "e1df410f-cc62-4d68-9b82-eff72ca1f8d8",
   "metadata": {},
   "outputs": [],
   "source": [
    "# y = ax + b\n",
    "\n",
    "# y = bağımlı değişken\n",
    "# x = bağımsız değişken\n",
    "# a = bağımsız değişken katsayısı\n",
    "# b = hata"
   ]
  },
  {
   "cell_type": "code",
   "execution_count": null,
   "id": "c60e9270-6ad8-419c-abce-caa5bb1adb27",
   "metadata": {},
   "outputs": [],
   "source": []
  }
 ],
 "metadata": {
  "kernelspec": {
   "display_name": "Python 3 (ipykernel)",
   "language": "python",
   "name": "python3"
  },
  "language_info": {
   "codemirror_mode": {
    "name": "ipython",
    "version": 3
   },
   "file_extension": ".py",
   "mimetype": "text/x-python",
   "name": "python",
   "nbconvert_exporter": "python",
   "pygments_lexer": "ipython3",
   "version": "3.12.7"
  }
 },
 "nbformat": 4,
 "nbformat_minor": 5
}

{
 "cells": [
  {
   "cell_type": "code",
   "execution_count": 1,
   "id": "0793a45f-f36a-4e58-bf9b-f526fd83a6d7",
   "metadata": {},
   "outputs": [],
   "source": [
    "from sklearn.linear_model import LinearRegression\n",
    "import pandas as pd\n",
    "\n",
    "#Gerekli kütüphaneler ve modelin importu"
   ]
  },
  {
   "cell_type": "code",
   "execution_count": 2,
   "id": "8328136f-b2a1-4898-9580-d63e38267f58",
   "metadata": {},
   "outputs": [],
   "source": [
    "df = pd.read_csv('datasets/Student_Marks.csv')"
   ]
  },
  {
   "cell_type": "code",
   "execution_count": 3,
   "id": "e191ad31-4109-41b6-ad64-72e7d5ea1a75",
   "metadata": {},
   "outputs": [
    {
     "data": {
      "text/html": [
       "<div>\n",
       "<style scoped>\n",
       "    .dataframe tbody tr th:only-of-type {\n",
       "        vertical-align: middle;\n",
       "    }\n",
       "\n",
       "    .dataframe tbody tr th {\n",
       "        vertical-align: top;\n",
       "    }\n",
       "\n",
       "    .dataframe thead th {\n",
       "        text-align: right;\n",
       "    }\n",
       "</style>\n",
       "<table border=\"1\" class=\"dataframe\">\n",
       "  <thead>\n",
       "    <tr style=\"text-align: right;\">\n",
       "      <th></th>\n",
       "      <th>number_courses</th>\n",
       "      <th>time_study</th>\n",
       "      <th>Marks</th>\n",
       "    </tr>\n",
       "  </thead>\n",
       "  <tbody>\n",
       "    <tr>\n",
       "      <th>0</th>\n",
       "      <td>3</td>\n",
       "      <td>4.508</td>\n",
       "      <td>19.202</td>\n",
       "    </tr>\n",
       "    <tr>\n",
       "      <th>1</th>\n",
       "      <td>4</td>\n",
       "      <td>0.096</td>\n",
       "      <td>7.734</td>\n",
       "    </tr>\n",
       "    <tr>\n",
       "      <th>2</th>\n",
       "      <td>4</td>\n",
       "      <td>3.133</td>\n",
       "      <td>13.811</td>\n",
       "    </tr>\n",
       "    <tr>\n",
       "      <th>3</th>\n",
       "      <td>6</td>\n",
       "      <td>7.909</td>\n",
       "      <td>53.018</td>\n",
       "    </tr>\n",
       "    <tr>\n",
       "      <th>4</th>\n",
       "      <td>8</td>\n",
       "      <td>7.811</td>\n",
       "      <td>55.299</td>\n",
       "    </tr>\n",
       "  </tbody>\n",
       "</table>\n",
       "</div>"
      ],
      "text/plain": [
       "   number_courses  time_study   Marks\n",
       "0               3       4.508  19.202\n",
       "1               4       0.096   7.734\n",
       "2               4       3.133  13.811\n",
       "3               6       7.909  53.018\n",
       "4               8       7.811  55.299"
      ]
     },
     "execution_count": 3,
     "metadata": {},
     "output_type": "execute_result"
    }
   ],
   "source": [
    "df.head(5)"
   ]
  },
  {
   "cell_type": "code",
   "execution_count": 4,
   "id": "1f3de568-e4bd-4f8b-9e2e-b7f933ec70c6",
   "metadata": {},
   "outputs": [],
   "source": [
    "df.columns = [\"sinif\",\"calisma_saati\",\"not\"] # daha kolay analiz icin kolon isimleri degistirildi"
   ]
  },
  {
   "cell_type": "code",
   "execution_count": 5,
   "id": "b6b08664-4ab6-4134-976d-99d91717760f",
   "metadata": {},
   "outputs": [
    {
     "data": {
      "text/html": [
       "<div>\n",
       "<style scoped>\n",
       "    .dataframe tbody tr th:only-of-type {\n",
       "        vertical-align: middle;\n",
       "    }\n",
       "\n",
       "    .dataframe tbody tr th {\n",
       "        vertical-align: top;\n",
       "    }\n",
       "\n",
       "    .dataframe thead th {\n",
       "        text-align: right;\n",
       "    }\n",
       "</style>\n",
       "<table border=\"1\" class=\"dataframe\">\n",
       "  <thead>\n",
       "    <tr style=\"text-align: right;\">\n",
       "      <th></th>\n",
       "      <th>sinif</th>\n",
       "      <th>calisma_saati</th>\n",
       "      <th>not</th>\n",
       "    </tr>\n",
       "  </thead>\n",
       "  <tbody>\n",
       "    <tr>\n",
       "      <th>0</th>\n",
       "      <td>3</td>\n",
       "      <td>4.508</td>\n",
       "      <td>19.202</td>\n",
       "    </tr>\n",
       "    <tr>\n",
       "      <th>1</th>\n",
       "      <td>4</td>\n",
       "      <td>0.096</td>\n",
       "      <td>7.734</td>\n",
       "    </tr>\n",
       "    <tr>\n",
       "      <th>2</th>\n",
       "      <td>4</td>\n",
       "      <td>3.133</td>\n",
       "      <td>13.811</td>\n",
       "    </tr>\n",
       "  </tbody>\n",
       "</table>\n",
       "</div>"
      ],
      "text/plain": [
       "   sinif  calisma_saati     not\n",
       "0      3          4.508  19.202\n",
       "1      4          0.096   7.734\n",
       "2      4          3.133  13.811"
      ]
     },
     "execution_count": 5,
     "metadata": {},
     "output_type": "execute_result"
    }
   ],
   "source": [
    "df.head(3)"
   ]
  },
  {
   "cell_type": "code",
   "execution_count": 6,
   "id": "08f46540-7cec-4019-a5fd-181afddb5e29",
   "metadata": {},
   "outputs": [],
   "source": [
    "y = df[[\"not\"]]\n",
    "x = df[[\"calisma_saati\",\"sinif\"]] # x ve y değişkenleri datafreame olsun diye çift köşeli parantez yaptık"
   ]
  },
  {
   "cell_type": "code",
   "execution_count": 7,
   "id": "a3585cc8-4599-4283-9c7c-1ebb5c8c13c6",
   "metadata": {},
   "outputs": [],
   "source": [
    "lm = LinearRegression()\n",
    "model = lm.fit(x,y)\n",
    "#modeli egittik x ve y degerleri uzerinden"
   ]
  },
  {
   "cell_type": "code",
   "execution_count": 8,
   "id": "4a2f9301-efa5-4612-9d3f-db6ab8d775f3",
   "metadata": {},
   "outputs": [],
   "source": [
    "# y = ax + b , bizde 2 adet a var biri sınıf biri çalışma saati var"
   ]
  },
  {
   "cell_type": "code",
   "execution_count": 9,
   "id": "6f8b8920-3702-4b94-9f90-e28b3a45b197",
   "metadata": {},
   "outputs": [
    {
     "data": {
      "text/plain": [
       "array([[5.39917879, 1.86405074]])"
      ]
     },
     "execution_count": 9,
     "metadata": {},
     "output_type": "execute_result"
    }
   ],
   "source": [
    "model.coef_ # egitilen modeldeki her bir a değerinin ağırlığını (katsayıyı ) bize veren fonksyion"
   ]
  },
  {
   "cell_type": "code",
   "execution_count": 10,
   "id": "17e4a500-7846-4b12-8c94-23321fc883e3",
   "metadata": {},
   "outputs": [
    {
     "data": {
      "text/plain": [
       "array([-7.45634623])"
      ]
     },
     "execution_count": 10,
     "metadata": {},
     "output_type": "execute_result"
    }
   ],
   "source": [
    "model.intercept_ # egitilen modeldeki sabit değeri bize veren kod blogu"
   ]
  },
  {
   "cell_type": "code",
   "execution_count": 11,
   "id": "d63ee30d-a37b-4bc8-b498-496221d11a27",
   "metadata": {},
   "outputs": [
    {
     "name": "stderr",
     "output_type": "stream",
     "text": [
      "C:\\ProgramData\\anaconda3\\Lib\\site-packages\\sklearn\\base.py:493: UserWarning: X does not have valid feature names, but LinearRegression was fitted with feature names\n",
      "  warnings.warn(\n"
     ]
    },
    {
     "data": {
      "text/plain": [
       "array([[23.46062263]])"
      ]
     },
     "execution_count": 11,
     "metadata": {},
     "output_type": "execute_result"
    }
   ],
   "source": [
    "model.predict([[4,5]]) # direkt dogru sirayla degiskemnleri vererek prediction sagladik"
   ]
  },
  {
   "cell_type": "code",
   "execution_count": 12,
   "id": "d358433a-3240-49e3-b505-3e6e56d102df",
   "metadata": {},
   "outputs": [
    {
     "data": {
      "text/plain": [
       "23.460622629999996"
      ]
     },
     "execution_count": 12,
     "metadata": {},
     "output_type": "execute_result"
    }
   ],
   "source": [
    "# calisma mantiginin saglamasini yaptigimizda ayni sonuca ulasildigini goruyoruz\n",
    "(5.39917879*4) + (1.86405074*5) + (-7.45634623)"
   ]
  },
  {
   "cell_type": "code",
   "execution_count": 13,
   "id": "acac37a8-b68c-4448-bb43-2b47494f4514",
   "metadata": {},
   "outputs": [
    {
     "data": {
      "text/plain": [
       "0.9403656320238896"
      ]
     },
     "execution_count": 13,
     "metadata": {},
     "output_type": "execute_result"
    }
   ],
   "source": [
    "# modelin doğruluk oranı bulunurken, her bir değer için algoritmamızın bulduğu sonuç ve gerçek sonuçlar karşılaştırılır\n",
    "# ve ortaya çıkan sonuç bize sapmayı verir.\n",
    "model.score(x,y) # bu da kısaca bunu yapan fonksiyondur"
   ]
  },
  {
   "cell_type": "code",
   "execution_count": null,
   "id": "2c2d57b8-f11c-4a70-8561-a4322a3063df",
   "metadata": {},
   "outputs": [],
   "source": []
  }
 ],
 "metadata": {
  "kernelspec": {
   "display_name": "Python 3 (ipykernel)",
   "language": "python",
   "name": "python3"
  },
  "language_info": {
   "codemirror_mode": {
    "name": "ipython",
    "version": 3
   },
   "file_extension": ".py",
   "mimetype": "text/x-python",
   "name": "python",
   "nbconvert_exporter": "python",
   "pygments_lexer": "ipython3",
   "version": "3.12.7"
  }
 },
 "nbformat": 4,
 "nbformat_minor": 5
}
